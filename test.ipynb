{
 "cells": [
  {
   "cell_type": "code",
   "execution_count": null,
   "id": "207b3c56",
   "metadata": {},
   "outputs": [],
   "source": []
  },
  {
   "cell_type": "markdown",
   "id": "2d4084a5",
   "metadata": {},
   "source": [
    "<div class=\"alert alert-block alert-success\">\n",
    "                 <b>Takeaways:</b>\n",
    "                 <br>\n",
    "                 - Begin documenting takeaways here.\n",
    "                 <br>\n",
    "                 - Second takeaway.\n",
    "                 <br>\n",
    "                 - Third takeaway.\n",
    "                 "
   ]
  },
  {
   "cell_type": "markdown",
   "id": "65fe23bd",
   "metadata": {},
   "source": [
    "<div class=\"alert alert-block alert-info\">\n",
    "                 <b>Instructor Note:</b>\n",
    "                 <br>\n",
    "                 Instructor note goes here.\n",
    "                 "
   ]
  },
  {
   "cell_type": "markdown",
   "id": "eb5386ab",
   "metadata": {},
   "source": [
    "<div class=\"alert alert-danger\" role=\"alert\">\n",
    "                 <strong>Important:</strong>\n",
    "                 <br>\n",
    "                 Import message goes here.\n",
    "                 "
   ]
  },
  {
   "cell_type": "code",
   "execution_count": null,
   "id": "aee876c7",
   "metadata": {},
   "outputs": [],
   "source": []
  }
 ],
 "metadata": {
  "kernelspec": {
   "display_name": "Python 3 (ipykernel)",
   "language": "python",
   "name": "python3"
  },
  "language_info": {
   "codemirror_mode": {
    "name": "ipython",
    "version": 3
   },
   "file_extension": ".py",
   "mimetype": "text/x-python",
   "name": "python",
   "nbconvert_exporter": "python",
   "pygments_lexer": "ipython3",
   "version": "3.9.12"
  }
 },
 "nbformat": 4,
 "nbformat_minor": 5
}
